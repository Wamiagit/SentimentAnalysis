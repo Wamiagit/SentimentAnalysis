{
 "cells": [
  {
   "cell_type": "markdown",
   "metadata": {},
   "source": [
    "# This Notebook\n",
    "\n",
    "In this Notebook, we will explore the use of LSTM cells to classify sentiment in the Twitter Sentiment140 dataset."
   ]
  },
  {
   "cell_type": "code",
   "execution_count": 1,
   "metadata": {},
   "outputs": [],
   "source": [
    "%matplotlib inline\n"
   ]
  },
  {
   "cell_type": "code",
   "execution_count": 2,
   "metadata": {},
   "outputs": [
    {
     "data": {
      "text/plain": [
       "[name: \"/device:CPU:0\"\n",
       " device_type: \"CPU\"\n",
       " memory_limit: 268435456\n",
       " locality {\n",
       " }\n",
       " incarnation: 18419688039988072433, name: \"/device:GPU:0\"\n",
       " device_type: \"GPU\"\n",
       " memory_limit: 4939461427\n",
       " locality {\n",
       "   bus_id: 1\n",
       "   links {\n",
       "   }\n",
       " }\n",
       " incarnation: 6573241294067500028\n",
       " physical_device_desc: \"device: 0, name: GeForce GTX 1060 6GB, pci bus id: 0000:01:00.0, compute capability: 6.1\"]"
      ]
     },
     "execution_count": 2,
     "metadata": {},
     "output_type": "execute_result"
    }
   ],
   "source": [
    "from tensorflow.python.client import device_lib\n",
    "\n",
    "device_lib.list_local_devices()\n"
   ]
  },
  {
   "cell_type": "code",
   "execution_count": 3,
   "metadata": {},
   "outputs": [
    {
     "data": {
      "text/html": [
       "<div>\n",
       "<style scoped>\n",
       "    .dataframe tbody tr th:only-of-type {\n",
       "        vertical-align: middle;\n",
       "    }\n",
       "\n",
       "    .dataframe tbody tr th {\n",
       "        vertical-align: top;\n",
       "    }\n",
       "\n",
       "    .dataframe thead th {\n",
       "        text-align: right;\n",
       "    }\n",
       "</style>\n",
       "<table border=\"1\" class=\"dataframe\">\n",
       "  <thead>\n",
       "    <tr style=\"text-align: right;\">\n",
       "      <th></th>\n",
       "      <th>sentiment</th>\n",
       "      <th>id</th>\n",
       "      <th>date</th>\n",
       "      <th>query_string</th>\n",
       "      <th>user</th>\n",
       "      <th>text</th>\n",
       "    </tr>\n",
       "  </thead>\n",
       "  <tbody>\n",
       "    <tr>\n",
       "      <td>0</td>\n",
       "      <td>0</td>\n",
       "      <td>1467810369</td>\n",
       "      <td>Mon Apr 06 22:19:45 PDT 2009</td>\n",
       "      <td>NO_QUERY</td>\n",
       "      <td>_TheSpecialOne_</td>\n",
       "      <td>@switchfoot http://twitpic.com/2y1zl - Awww, t...</td>\n",
       "    </tr>\n",
       "    <tr>\n",
       "      <td>1</td>\n",
       "      <td>0</td>\n",
       "      <td>1467810672</td>\n",
       "      <td>Mon Apr 06 22:19:49 PDT 2009</td>\n",
       "      <td>NO_QUERY</td>\n",
       "      <td>scotthamilton</td>\n",
       "      <td>is upset that he can't update his Facebook by ...</td>\n",
       "    </tr>\n",
       "    <tr>\n",
       "      <td>2</td>\n",
       "      <td>0</td>\n",
       "      <td>1467810917</td>\n",
       "      <td>Mon Apr 06 22:19:53 PDT 2009</td>\n",
       "      <td>NO_QUERY</td>\n",
       "      <td>mattycus</td>\n",
       "      <td>@Kenichan I dived many times for the ball. Man...</td>\n",
       "    </tr>\n",
       "    <tr>\n",
       "      <td>3</td>\n",
       "      <td>0</td>\n",
       "      <td>1467811184</td>\n",
       "      <td>Mon Apr 06 22:19:57 PDT 2009</td>\n",
       "      <td>NO_QUERY</td>\n",
       "      <td>ElleCTF</td>\n",
       "      <td>my whole body feels itchy and like its on fire</td>\n",
       "    </tr>\n",
       "    <tr>\n",
       "      <td>4</td>\n",
       "      <td>0</td>\n",
       "      <td>1467811193</td>\n",
       "      <td>Mon Apr 06 22:19:57 PDT 2009</td>\n",
       "      <td>NO_QUERY</td>\n",
       "      <td>Karoli</td>\n",
       "      <td>@nationwideclass no, it's not behaving at all....</td>\n",
       "    </tr>\n",
       "  </tbody>\n",
       "</table>\n",
       "</div>"
      ],
      "text/plain": [
       "   sentiment          id                          date query_string  \\\n",
       "0          0  1467810369  Mon Apr 06 22:19:45 PDT 2009     NO_QUERY   \n",
       "1          0  1467810672  Mon Apr 06 22:19:49 PDT 2009     NO_QUERY   \n",
       "2          0  1467810917  Mon Apr 06 22:19:53 PDT 2009     NO_QUERY   \n",
       "3          0  1467811184  Mon Apr 06 22:19:57 PDT 2009     NO_QUERY   \n",
       "4          0  1467811193  Mon Apr 06 22:19:57 PDT 2009     NO_QUERY   \n",
       "\n",
       "              user                                               text  \n",
       "0  _TheSpecialOne_  @switchfoot http://twitpic.com/2y1zl - Awww, t...  \n",
       "1    scotthamilton  is upset that he can't update his Facebook by ...  \n",
       "2         mattycus  @Kenichan I dived many times for the ball. Man...  \n",
       "3          ElleCTF    my whole body feels itchy and like its on fire   \n",
       "4           Karoli  @nationwideclass no, it's not behaving at all....  "
      ]
     },
     "execution_count": 3,
     "metadata": {},
     "output_type": "execute_result"
    }
   ],
   "source": [
    "import os\n",
    "import pandas as pd\n",
    "\n",
    "cwd = os.getcwd()\n",
    "fname = f\"{cwd}\\\\trainingandtestdata\\\\training.1600000.processed.noemoticon.csv\"\n",
    "\n",
    "cols = ['sentiment','id','date','query_string','user','text']\n",
    "df = pd.read_csv(fname, \n",
    "                 header=None, \n",
    "                 names=cols, \n",
    "                 encoding=\"latin-1\")\n",
    "\n",
    "df.head(5)\n"
   ]
  },
  {
   "cell_type": "code",
   "execution_count": 4,
   "metadata": {},
   "outputs": [
    {
     "data": {
      "text/plain": [
       "4    800000\n",
       "0    800000\n",
       "Name: sentiment, dtype: int64"
      ]
     },
     "execution_count": 4,
     "metadata": {},
     "output_type": "execute_result"
    }
   ],
   "source": [
    "df.sentiment.value_counts()\n"
   ]
  },
  {
   "cell_type": "code",
   "execution_count": 5,
   "metadata": {},
   "outputs": [],
   "source": [
    "df[\"target\"] = df.sentiment.apply(lambda x: 1 if x > 0 else 0)\n"
   ]
  },
  {
   "cell_type": "markdown",
   "metadata": {},
   "source": [
    "# Detect Language and keep English Only\n",
    "\n",
    "For simplicity, we will deal with a single language only (although our method is multilingual in principle).\n",
    "\n",
    "You can download the fastText language identifcation model [here](https://fasttext.cc/docs/en/language-identification.html)."
   ]
  },
  {
   "cell_type": "code",
   "execution_count": 6,
   "metadata": {},
   "outputs": [
    {
     "name": "stderr",
     "output_type": "stream",
     "text": [
      "\n"
     ]
    },
    {
     "data": {
      "text/plain": [
       "('en', 0.9818459153175354)"
      ]
     },
     "execution_count": 6,
     "metadata": {},
     "output_type": "execute_result"
    }
   ],
   "source": [
    "import fasttext\n",
    "\n",
    "class LanguageDetector(object):\n",
    "    def __init__(self, fname: str, label: str=\"__label__\"):\n",
    "        self._model = fasttext.load_model(fname)\n",
    "        self.label = label\n",
    "        \n",
    "    def predict(self, text: str):\n",
    "        prediction, probability = self._model.predict(text, k=1)\n",
    "        \n",
    "        prediction = prediction[0].replace(self.label, \"\")\n",
    "        probability = probability[0]\n",
    "        \n",
    "        return prediction, probability\n",
    "\n",
    "model_fname = \"C:\\\\Users\\dsull\\Documents\\FastText\\lid.176.ftz\"\n",
    "lang_detector = LanguageDetector(model_fname)\n",
    "lang_detector.predict(\"this is a test\")\n"
   ]
  },
  {
   "cell_type": "code",
   "execution_count": 7,
   "metadata": {},
   "outputs": [
    {
     "data": {
      "text/plain": [
       "en     1443234\n",
       "de        5661\n",
       "es        2079\n",
       "fr        1650\n",
       "it        1398\n",
       "        ...   \n",
       "gom          1\n",
       "qu           1\n",
       "bar          1\n",
       "su           1\n",
       "mt           1\n",
       "Name: language, Length: 112, dtype: int64"
      ]
     },
     "execution_count": 7,
     "metadata": {},
     "output_type": "execute_result"
    }
   ],
   "source": [
    "def detect_language(text):\n",
    "    lang, proba = lang_detector.predict(text)\n",
    "    if proba > 0.5:\n",
    "        return lang\n",
    "    else:\n",
    "        return None\n",
    "\n",
    "df[\"language\"] = df.text.apply(detect_language)\n",
    "df.language.value_counts()\n"
   ]
  },
  {
   "cell_type": "code",
   "execution_count": 8,
   "metadata": {},
   "outputs": [
    {
     "name": "stdout",
     "output_type": "stream",
     "text": [
      "1443234\n"
     ]
    }
   ],
   "source": [
    "df_en = df.loc[df.language == \"en\"]\n",
    "print(len(df_en))\n"
   ]
  },
  {
   "cell_type": "markdown",
   "metadata": {},
   "source": [
    "# Preprocess Text"
   ]
  },
  {
   "cell_type": "code",
   "execution_count": 9,
   "metadata": {},
   "outputs": [],
   "source": [
    "import re\n",
    "from typing import Optional, List\n",
    "\n",
    "from nltk.corpus import stopwords\n",
    "from nltk.stem import SnowballStemmer\n",
    "\n",
    "PATTERN = \"@\\S+|https?:\\S+|http?:\\S|[^A-Za-z0-9]+\"\n",
    "matcher = re.compile(PATTERN)\n",
    "\n",
    "def preprocess(text: str, stopwords: List[str] = [], stemmer: SnowballStemmer = None) -> Optional[str]:\n",
    "    if isinstance(text, str) and len(text) > 0:\n",
    "        clean_text = matcher.sub(\" \", text.lower()).strip()\n",
    "        \n",
    "        tokens = []\n",
    "        for token in clean_text.split():\n",
    "            if token not in stopwords:\n",
    "                if stemmer is not None:\n",
    "                    tokens.append(stemmer.stem(token))\n",
    "                else:\n",
    "                    tokens.append(token)\n",
    "                    \n",
    "        return \" \".join(tokens)\n",
    "    return None\n",
    "    "
   ]
  },
  {
   "cell_type": "code",
   "execution_count": 10,
   "metadata": {},
   "outputs": [
    {
     "name": "stdout",
     "output_type": "stream",
     "text": [
      "Wall time: 39.7 s\n"
     ]
    },
    {
     "name": "stderr",
     "output_type": "stream",
     "text": [
      "C:\\Users\\dsull\\Anaconda3\\envs\\tensorflow_gpu\\lib\\site-packages\\pandas\\core\\generic.py:5208: SettingWithCopyWarning: \n",
      "A value is trying to be set on a copy of a slice from a DataFrame.\n",
      "Try using .loc[row_indexer,col_indexer] = value instead\n",
      "\n",
      "See the caveats in the documentation: http://pandas.pydata.org/pandas-docs/stable/user_guide/indexing.html#returning-a-view-versus-a-copy\n",
      "  self[name] = value\n"
     ]
    }
   ],
   "source": [
    "%%time\n",
    "\n",
    "stopwords = stopwords.words(\"english\")\n",
    "# stemmer = SnowballStemmer(\"english\")\n",
    "\n",
    "df_en.text = df_en.text.apply(lambda x: preprocess(x, stopwords=stopwords))\n"
   ]
  },
  {
   "cell_type": "markdown",
   "metadata": {},
   "source": [
    "# Split Into train/test"
   ]
  },
  {
   "cell_type": "code",
   "execution_count": 11,
   "metadata": {},
   "outputs": [
    {
     "name": "stdout",
     "output_type": "stream",
     "text": [
      "Train size: 1154587\n",
      "Test size: 288647\n"
     ]
    }
   ],
   "source": [
    "from sklearn.model_selection import train_test_split\n",
    "\n",
    "df_train, df_test = train_test_split(df_en.dropna(), test_size=0.2, random_state=42)\n",
    "\n",
    "print(\"Train size:\", len(df_train))\n",
    "print(\"Test size:\", len(df_test))\n"
   ]
  },
  {
   "cell_type": "markdown",
   "metadata": {},
   "source": [
    "# Tokenize"
   ]
  },
  {
   "cell_type": "code",
   "execution_count": 12,
   "metadata": {},
   "outputs": [
    {
     "name": "stderr",
     "output_type": "stream",
     "text": [
      "Using TensorFlow backend.\n"
     ]
    },
    {
     "name": "stdout",
     "output_type": "stream",
     "text": [
      "Total words 257670\n"
     ]
    }
   ],
   "source": [
    "from keras.preprocessing.text import Tokenizer\n",
    "\n",
    "tokenizer = Tokenizer(oov_token=\"<unk>\")\n",
    "tokenizer.fit_on_texts(df_train.text)\n",
    "\n",
    "vocab_size = len(tokenizer.word_index) + 1\n",
    "print(\"Total words\", vocab_size)\n"
   ]
  },
  {
   "cell_type": "markdown",
   "metadata": {},
   "source": [
    "# Pad Sequences\n",
    "\n",
    "Keras expects input tensors to be the same shape, so we need to pad the input sequences."
   ]
  },
  {
   "cell_type": "code",
   "execution_count": 13,
   "metadata": {},
   "outputs": [
    {
     "name": "stdout",
     "output_type": "stream",
     "text": [
      "maxlen= 374\n"
     ]
    }
   ],
   "source": [
    "import numpy as np\n",
    "\n",
    "maxlen = -np.inf\n",
    "\n",
    "for text in df.text:\n",
    "    if len(text) > maxlen:\n",
    "        maxlen = len(text)\n",
    "        \n",
    "print(\"maxlen=\", maxlen)\n"
   ]
  },
  {
   "cell_type": "code",
   "execution_count": 14,
   "metadata": {},
   "outputs": [],
   "source": [
    "from keras.preprocessing.sequence import pad_sequences\n",
    "\n",
    "maxlen = 350\n",
    "\n",
    "X_train = pad_sequences(tokenizer.texts_to_sequences(df_train.text), maxlen=maxlen)\n",
    "X_test = pad_sequences(tokenizer.texts_to_sequences(df_test.text), maxlen=maxlen)\n"
   ]
  },
  {
   "cell_type": "code",
   "execution_count": 15,
   "metadata": {},
   "outputs": [],
   "source": [
    "from keras.utils import to_categorical\n",
    "\n",
    "y_train = to_categorical(df_train.target)\n",
    "y_test = to_categorical(df_test.target)\n"
   ]
  },
  {
   "cell_type": "markdown",
   "metadata": {},
   "source": [
    "# Initialise FastText model and Weights\n",
    "\n",
    "We convert sequences to embedding vectors using pre-trained fastText models, which can be downloaded [here](https://fasttext.cc/docs/en/crawl-vectors.html). We will initialse the Embedding layer with these weights and prevent further training (transfer learning)."
   ]
  },
  {
   "cell_type": "code",
   "execution_count": 16,
   "metadata": {},
   "outputs": [
    {
     "name": "stderr",
     "output_type": "stream",
     "text": [
      "\n"
     ]
    }
   ],
   "source": [
    "en_model = fasttext.load_model(\"C:\\\\Users\\dsull\\Documents\\FastText\\cc.en.300.bin\")\n"
   ]
  },
  {
   "cell_type": "code",
   "execution_count": 17,
   "metadata": {},
   "outputs": [
    {
     "name": "stdout",
     "output_type": "stream",
     "text": [
      "(257670, 300)\n"
     ]
    }
   ],
   "source": [
    "\"\"\"\n",
    "The Tokenizer reserved the 0th index for <pad>, which we will leave as a vector of zeros.\n",
    "We have also set the out of vocabulary token to <unk>, which we will initialise with a random vector.\n",
    "\"\"\"\n",
    "ndim = en_model.get_dimension()\n",
    "\n",
    "unk_vector = np.random.uniform(low=-1.0, high=1.0, size=(ndim,))\n",
    "weights = np.zeros((len(tokenizer.index_word)+1, ndim))\n",
    "\n",
    "for i, word in tokenizer.index_word.items():\n",
    "    if word == \"<unk>\":\n",
    "        weights[i] = unk_vector\n",
    "    else:\n",
    "        weights[i] = en_model.get_word_vector(word)\n",
    "        \n",
    "print(weights.shape)\n",
    "        "
   ]
  },
  {
   "cell_type": "markdown",
   "metadata": {},
   "source": [
    "# Build Model\n",
    "\n",
    "We will build a bi-directional RNN using the cudNN optimiser CuDNNLSTM/CuDNNGRU layers."
   ]
  },
  {
   "cell_type": "code",
   "execution_count": 18,
   "metadata": {},
   "outputs": [],
   "source": [
    "from keras.models import Model\n",
    "from keras.layers import (\n",
    "    Input, \n",
    "    Embedding, \n",
    "    Bidirectional, \n",
    "    CuDNNGRU, \n",
    "    CuDNNLSTM, \n",
    "    SpatialDropout1D, \n",
    "    Dropout, \n",
    "    Dense\n",
    ")\n"
   ]
  },
  {
   "cell_type": "code",
   "execution_count": 19,
   "metadata": {},
   "outputs": [],
   "source": [
    "def build_model(params: dict):\n",
    "    inputs = Input(shape=(params[\"maxlen\"],))\n",
    "    \n",
    "    embedding_weights = params[\"weights\"]\n",
    "    embeddings_layer = Embedding(input_dim=embedding_weights.shape[0], \n",
    "                          output_dim=embedding_weights.shape[1], \n",
    "                          weights=[embedding_weights], \n",
    "                          trainable=False)\n",
    "\n",
    "    embeddings = embeddings_layer(inputs)\n",
    "\n",
    "    # Add SpatialDropout1D\n",
    "    x = SpatialDropout1D(params[\"spatial_dropout\"])(embeddings)\n",
    "    \n",
    "    # Build GRUs\n",
    "#     Note, there is a bug with stacking CuDNNGRU layers. The below works for standard GRUs\n",
    "#     gru = GRU(params[\"gru_state_size\"], return_sequences=True, return_state=True)\n",
    "#     outputs, state_h, state_c = Bidirectional(gru)(x)\n",
    "#     encoder_states = [state_h, state_c]\n",
    "        \n",
    "#     gru = GRU(params[\"gru_state_size\"])\n",
    "#     x = Bidirectional(gru)(outputs, initial_state=encoder_states)\n",
    "\n",
    "    # Use single CuDNNLSTM layer instead\n",
    "    lstm = CuDNNLSTM(params[\"lstm_state_size\"])\n",
    "    x = Bidirectional(lstm)(x)\n",
    "    \n",
    "    # Dropout\n",
    "    x = Dropout(params[\"dropout\"])(x)\n",
    "    \n",
    "    # Build fully-connected classifier\n",
    "    x = Dense(params[\"dense_1\"], activation=params[\"dense_activation\"])(x)\n",
    "    \n",
    "    x = Dropout(params[\"dropout\"])(x)\n",
    "    \n",
    "    outputs = Dense(params[\"num_classes\"], activation=\"softmax\")(x)\n",
    "    \n",
    "    model = Model(inputs=inputs, outputs=outputs)\n",
    "    \n",
    "    lr = params[\"lr\"]\n",
    "    optimizer = params[\"optimizer\"]\n",
    "    opt = optimizer(lr=lr)\n",
    "    \n",
    "    loss = \"binary_crossentropy\"\n",
    "    if params[\"num_classes\"] > 2:\n",
    "        loss = \"categorical_crossentropy\"\n",
    "        \n",
    "    model.compile(loss=loss, optimizer=opt, metrics=[\"accuracy\"])\n",
    "    return model\n"
   ]
  },
  {
   "cell_type": "code",
   "execution_count": 20,
   "metadata": {},
   "outputs": [
    {
     "name": "stderr",
     "output_type": "stream",
     "text": [
      "WARNING: Logging before flag parsing goes to stderr.\n",
      "W0902 18:22:22.063251  3824 deprecation_wrapper.py:119] From C:\\Users\\dsull\\Anaconda3\\envs\\tensorflow_gpu\\lib\\site-packages\\keras\\backend\\tensorflow_backend.py:107: The name tf.reset_default_graph is deprecated. Please use tf.compat.v1.reset_default_graph instead.\n",
      "\n",
      "W0902 18:22:22.128218  3824 deprecation_wrapper.py:119] From C:\\Users\\dsull\\Anaconda3\\envs\\tensorflow_gpu\\lib\\site-packages\\keras\\backend\\tensorflow_backend.py:111: The name tf.placeholder_with_default is deprecated. Please use tf.compat.v1.placeholder_with_default instead.\n",
      "\n",
      "W0902 18:22:22.142256  3824 deprecation_wrapper.py:119] From C:\\Users\\dsull\\Anaconda3\\envs\\tensorflow_gpu\\lib\\site-packages\\keras\\backend\\tensorflow_backend.py:66: The name tf.get_default_graph is deprecated. Please use tf.compat.v1.get_default_graph instead.\n",
      "\n",
      "W0902 18:22:22.143259  3824 deprecation_wrapper.py:119] From C:\\Users\\dsull\\Anaconda3\\envs\\tensorflow_gpu\\lib\\site-packages\\keras\\backend\\tensorflow_backend.py:541: The name tf.placeholder is deprecated. Please use tf.compat.v1.placeholder instead.\n",
      "\n",
      "W0902 18:22:22.146294  3824 deprecation_wrapper.py:119] From C:\\Users\\dsull\\Anaconda3\\envs\\tensorflow_gpu\\lib\\site-packages\\keras\\backend\\tensorflow_backend.py:4432: The name tf.random_uniform is deprecated. Please use tf.random.uniform instead.\n",
      "\n",
      "W0902 18:22:24.217361  3824 deprecation.py:506] From C:\\Users\\dsull\\Anaconda3\\envs\\tensorflow_gpu\\lib\\site-packages\\keras\\backend\\tensorflow_backend.py:3733: calling dropout (from tensorflow.python.ops.nn_ops) with keep_prob is deprecated and will be removed in a future version.\n",
      "Instructions for updating:\n",
      "Please use `rate` instead of `keep_prob`. Rate should be set to `rate = 1 - keep_prob`.\n",
      "W0902 18:22:25.732389  3824 deprecation_wrapper.py:119] From C:\\Users\\dsull\\Anaconda3\\envs\\tensorflow_gpu\\lib\\site-packages\\keras\\optimizers.py:793: The name tf.train.Optimizer is deprecated. Please use tf.compat.v1.train.Optimizer instead.\n",
      "\n",
      "W0902 18:22:25.748433  3824 deprecation.py:323] From C:\\Users\\dsull\\Anaconda3\\envs\\tensorflow_gpu\\lib\\site-packages\\tensorflow\\python\\ops\\nn_impl.py:180: add_dispatch_support.<locals>.wrapper (from tensorflow.python.ops.array_ops) is deprecated and will be removed in a future version.\n",
      "Instructions for updating:\n",
      "Use tf.where in 2.0, which has the same broadcast rule as np.where\n"
     ]
    },
    {
     "name": "stdout",
     "output_type": "stream",
     "text": [
      "Model: \"model_1\"\n",
      "_________________________________________________________________\n",
      "Layer (type)                 Output Shape              Param #   \n",
      "=================================================================\n",
      "input_1 (InputLayer)         (None, 350)               0         \n",
      "_________________________________________________________________\n",
      "embedding_1 (Embedding)      (None, 350, 300)          77301000  \n",
      "_________________________________________________________________\n",
      "spatial_dropout1d_1 (Spatial (None, 350, 300)          0         \n",
      "_________________________________________________________________\n",
      "bidirectional_1 (Bidirection (None, 200)               321600    \n",
      "_________________________________________________________________\n",
      "dropout_1 (Dropout)          (None, 200)               0         \n",
      "_________________________________________________________________\n",
      "dense_1 (Dense)              (None, 128)               25728     \n",
      "_________________________________________________________________\n",
      "dropout_2 (Dropout)          (None, 128)               0         \n",
      "_________________________________________________________________\n",
      "dense_2 (Dense)              (None, 2)                 258       \n",
      "=================================================================\n",
      "Total params: 77,648,586\n",
      "Trainable params: 347,586\n",
      "Non-trainable params: 77,301,000\n",
      "_________________________________________________________________\n"
     ]
    }
   ],
   "source": [
    "from keras import backend as K\n",
    "from keras.optimizers import RMSprop\n",
    "\n",
    "params = {\n",
    "    \"maxlen\": maxlen,\n",
    "    \"weights\": weights,\n",
    "    \"spatial_dropout\": 0.2,\n",
    "    \"num_lstm\": 3,\n",
    "    \"lstm_state_size\": 100,\n",
    "    \"dropout\": 0.5,\n",
    "    \"dense_1\": 128,\n",
    "    \"dense_activation\": \"relu\",\n",
    "    \"num_classes\": 2,\n",
    "    \"lr\": 1e-3,\n",
    "    \"optimizer\": RMSprop  # known good optimizer for RNNs\n",
    "}\n",
    "\n",
    "K.clear_session()\n",
    "\n",
    "model = build_model(params)\n",
    "model.summary()\n"
   ]
  },
  {
   "cell_type": "code",
   "execution_count": 21,
   "metadata": {},
   "outputs": [
    {
     "data": {
      "image/png": "[encoded data removed]",
      "text/plain": [
       "<IPython.core.display.Image object>"
      ]
     },
     "execution_count": 21,
     "metadata": {},
     "output_type": "execute_result"
    }
   ],
   "source": [
    "from keras.utils.vis_utils import plot_model\n",
    "\n",
    "plot_model(model)\n"
   ]
  },
  {
   "cell_type": "code",
   "execution_count": 22,
   "metadata": {},
   "outputs": [
    {
     "name": "stdout",
     "output_type": "stream",
     "text": [
      "Train on 1154587 samples, validate on 288647 samples\n",
      "Epoch 1/10\n",
      "1154587/1154587 [==============================] - 530s 459us/step - loss: 0.5309 - acc: 0.7339 - val_loss: 0.4836 - val_acc: 0.7657\n",
      "Epoch 2/10\n",
      "1154587/1154587 [==============================] - 525s 455us/step - loss: 0.4929 - acc: 0.7614 - val_loss: 0.4732 - val_acc: 0.7714\n",
      "Epoch 3/10\n",
      "1154587/1154587 [==============================] - 526s 456us/step - loss: 0.4841 - acc: 0.7676 - val_loss: 0.4694 - val_acc: 0.7764\n",
      "Epoch 4/10\n",
      "1154587/1154587 [==============================] - 525s 455us/step - loss: 0.4762 - acc: 0.7737 - val_loss: 0.4619 - val_acc: 0.7804\n",
      "Epoch 5/10\n",
      "1154587/1154587 [==============================] - 529s 458us/step - loss: 0.4742 - acc: 0.7747 - val_loss: 0.4614 - val_acc: 0.7798\n",
      "Epoch 6/10\n",
      "1154587/1154587 [==============================] - 529s 458us/step - loss: 0.4697 - acc: 0.7786 - val_loss: 0.4578 - val_acc: 0.7849\n",
      "Epoch 7/10\n",
      "1154587/1154587 [==============================] - 538s 466us/step - loss: 0.4623 - acc: 0.7822 - val_loss: 0.4575 - val_acc: 0.7868\n"
     ]
    }
   ],
   "source": [
    "from keras.models import load_model\n",
    "from keras.callbacks import ReduceLROnPlateau, EarlyStopping\n",
    "\n",
    "callbacks = [\n",
    "    ReduceLROnPlateau(monitor=\"val_acc\",\n",
    "                     min_delta=0.005,\n",
    "                     patience=3,\n",
    "                     factor=0.5),\n",
    "    EarlyStopping(monitor=\"val_loss\",\n",
    "                 min_delta=0.005,\n",
    "                 patience=3,\n",
    "                 mode=\"auto\",\n",
    "                 restore_best_weights = True)\n",
    "]\n",
    "\n",
    "epochs = 10\n",
    "batch_size = 256\n",
    "\n",
    "history = model.fit(X_train, y_train, epochs=epochs, batch_size=batch_size, \n",
    "                    validation_data=(X_test, y_test), callbacks=callbacks)\n"
   ]
  },
  {
   "cell_type": "code",
   "execution_count": 23,
   "metadata": {},
   "outputs": [
    {
     "data": {
      "image/png": "[encoded data removed]",
      "text/plain": [
       "<Figure size 432x288 with 1 Axes>"
      ]
     },
     "metadata": {
      "needs_background": "light"
     },
     "output_type": "display_data"
    }
   ],
   "source": [
    "import matplotlib.pylab as plt\n",
    "\n",
    "historydf = pd.DataFrame(history.history, index=history.epoch)\n",
    "\n",
    "historydf.plot(ylim=(0,1.2))\n",
    "plt.show()\n"
   ]
  },
  {
   "cell_type": "code",
   "execution_count": 24,
   "metadata": {},
   "outputs": [
    {
     "name": "stdout",
     "output_type": "stream",
     "text": [
      "The Accuracy score on the Train set is:\t0.785\n",
      "The Accuracy score on the Test set is:\t0.780\n"
     ]
    }
   ],
   "source": [
    "from sklearn.metrics import accuracy_score\n",
    "\n",
    "y_train_pred = np.argmax(model.predict(X_train), axis=1)\n",
    "y_test_pred = np.argmax(model.predict(X_test), axis=1)\n",
    "\n",
    "print(\"The Accuracy score on the Train set is:\\t{:0.3f}\".format(accuracy_score(np.argmax(y_train, axis=1), y_train_pred)))\n",
    "print(\"The Accuracy score on the Test set is:\\t{:0.3f}\".format(accuracy_score(np.argmax(y_test, axis=1), y_test_pred)))\n"
   ]
  },
  {
   "cell_type": "code",
   "execution_count": 25,
   "metadata": {},
   "outputs": [
    {
     "name": "stdout",
     "output_type": "stream",
     "text": [
      "              precision    recall  f1-score   support\n",
      "\n",
      "           0       0.77      0.81      0.79    147310\n",
      "           1       0.79      0.75      0.77    141337\n",
      "\n",
      "    accuracy                           0.78    288647\n",
      "   macro avg       0.78      0.78      0.78    288647\n",
      "weighted avg       0.78      0.78      0.78    288647\n",
      "\n"
     ]
    }
   ],
   "source": [
    "from sklearn.metrics import classification_report\n",
    "\n",
    "y_test_class = np.argmax(y_test, axis=1)\n",
    "print(classification_report(y_test_class, y_test_pred))\n"
   ]
  },
  {
   "cell_type": "code",
   "execution_count": 26,
   "metadata": {},
   "outputs": [
    {
     "data": {
      "image/png": "[encoded data removed]",
      "text/plain": [
       "<Figure size 432x288 with 2 Axes>"
      ]
     },
     "metadata": {
      "needs_background": "light"
     },
     "output_type": "display_data"
    }
   ],
   "source": [
    "import scikitplot as skplt\n",
    "\n",
    "skplt.metrics.plot_confusion_matrix(y_test_class, y_test_pred, normalize=True)\n",
    "plt.show()\n"
   ]
  },
  {
   "cell_type": "code",
   "execution_count": null,
   "metadata": {},
   "outputs": [],
   "source": []
  }
 ],
 "metadata": {
  "kernelspec": {
   "display_name": "Python 3",
   "language": "python",
   "name": "python3"
  },
  "language_info": {
   "codemirror_mode": {
    "name": "ipython",
    "version": 3
   },
   "file_extension": ".py",
   "mimetype": "text/x-python",
   "name": "python",
   "nbconvert_exporter": "python",
   "pygments_lexer": "ipython3",
   "version": "3.7.4"
  }
 },
 "nbformat": 4,
 "nbformat_minor": 2
}
